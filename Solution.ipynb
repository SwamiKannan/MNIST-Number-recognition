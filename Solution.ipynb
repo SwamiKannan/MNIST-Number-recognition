{
 "cells": [
  {
   "cell_type": "code",
   "execution_count": 1,
   "metadata": {},
   "outputs": [],
   "source": [
    "import numpy as np\n",
    "import matplotlib.pyplot as plt"
   ]
  },
  {
   "cell_type": "code",
   "execution_count": 2,
   "metadata": {},
   "outputs": [],
   "source": [
    "import torch\n",
    "import torch.nn as nn\n",
    "import torch.nn.functional as F\n",
    "from torch.utils.data import DataLoader\n",
    "from torchvision import datasets, transforms"
   ]
  },
  {
   "cell_type": "markdown",
   "metadata": {},
   "source": [
    "### To-do\n",
    "&nbsp;&nbsp;1. Download the data and get the tensors <br>\n",
    "&nbsp;&nbsp;2. Create the model <br>\n",
    "&nbsp;&nbsp;3. Train the model and check while training <br>\n",
    "&nbsp;&nbsp;4. Plot loss and accuracy model<br>\n",
    "&nbsp;&nbsp;5. Check for full test data dump<br>\n",
    "&nbsp;&nbsp;6. Check the confusion matrix<br>"
   ]
  },
  {
   "cell_type": "markdown",
   "metadata": {},
   "source": [
    "#### 1. Download the data and get the tensors <br>"
   ]
  },
  {
   "cell_type": "code",
   "execution_count": 4,
   "metadata": {},
   "outputs": [],
   "source": [
    "transform=transforms.ToTensor()"
   ]
  },
  {
   "cell_type": "code",
   "execution_count": 5,
   "metadata": {},
   "outputs": [],
   "source": [
    "train_data_base=datasets.MNIST(root='../Data', train=True, download=True, transform=transform)\n",
    "test_data_base=datasets.MNIST(root='../Data',train=False, download=True,transform=transform)"
   ]
  },
  {
   "cell_type": "code",
   "execution_count": 6,
   "metadata": {},
   "outputs": [
    {
     "data": {
      "text/plain": [
       "Dataset MNIST\n",
       "    Number of datapoints: 10000\n",
       "    Root location: ../Data\n",
       "    Split: Test\n",
       "    StandardTransform\n",
       "Transform: ToTensor()"
      ]
     },
     "execution_count": 6,
     "metadata": {},
     "output_type": "execute_result"
    }
   ],
   "source": [
    "test_data_base"
   ]
  },
  {
   "cell_type": "code",
   "execution_count": 7,
   "metadata": {},
   "outputs": [],
   "source": [
    "train_load=DataLoader(train_data_base,batch_size=10,shuffle=True)\n",
    "test_load=DataLoader(test_data_base,batch_size=10)"
   ]
  },
  {
   "cell_type": "code",
   "execution_count": 8,
   "metadata": {},
   "outputs": [
    {
     "data": {
      "text/plain": [
       "1000"
      ]
     },
     "execution_count": 8,
     "metadata": {},
     "output_type": "execute_result"
    }
   ],
   "source": [
    "len(test_load)"
   ]
  },
  {
   "cell_type": "code",
   "execution_count": 9,
   "metadata": {},
   "outputs": [],
   "source": [
    "for train_load_index, train_load_sample in enumerate(train_load):\n",
    "    break"
   ]
  },
  {
   "cell_type": "code",
   "execution_count": 10,
   "metadata": {},
   "outputs": [
    {
     "data": {
      "text/plain": [
       "torch.Size([10, 1, 28, 28])"
      ]
     },
     "execution_count": 10,
     "metadata": {},
     "output_type": "execute_result"
    }
   ],
   "source": [
    "train_load_sample[0].shape"
   ]
  },
  {
   "cell_type": "markdown",
   "metadata": {},
   "source": [
    "#### 2. Create the model <br>"
   ]
  },
  {
   "cell_type": "code",
   "execution_count": 11,
   "metadata": {},
   "outputs": [],
   "source": [
    "class Model(nn.Module):\n",
    "    def __init__(self):\n",
    "        super().__init__()\n",
    "        self.conv1=nn.Conv2d(1,6,3,1) # calc of new dimensions = ((orig_dimension +2*padding -kernel)/stride) +1\n",
    "        self.conv2=nn.Conv2d(6,16,3,1)\n",
    "        self.lin1=nn.Linear(5*5*16,120)\n",
    "        self.lin2=nn.Linear(120,84)\n",
    "        self.lin3=nn.Linear(84,10)\n",
    "        \n",
    "    def forward(self,X):\n",
    "        X=F.relu(self.conv1(X))\n",
    "        X=F.max_pool2d(X,2,2)\n",
    "        X=F.relu(self.conv2(X))\n",
    "        X=F.max_pool2d(X,2,2)\n",
    "        X = X.view(-1, 5*5*16)\n",
    "        X=F.relu(self.lin1(X))\n",
    "        X=F.relu(self.lin2(X))\n",
    "        X=self.lin3(X)\n",
    "        return F.log_softmax(X,dim=1)\n",
    "     \n",
    "        "
   ]
  },
  {
   "cell_type": "code",
   "execution_count": 12,
   "metadata": {},
   "outputs": [
    {
     "data": {
      "text/plain": [
       "Model(\n",
       "  (conv1): Conv2d(1, 6, kernel_size=(3, 3), stride=(1, 1))\n",
       "  (conv2): Conv2d(6, 16, kernel_size=(3, 3), stride=(1, 1))\n",
       "  (lin1): Linear(in_features=400, out_features=120, bias=True)\n",
       "  (lin2): Linear(in_features=120, out_features=84, bias=True)\n",
       "  (lin3): Linear(in_features=84, out_features=10, bias=True)\n",
       ")"
      ]
     },
     "execution_count": 12,
     "metadata": {},
     "output_type": "execute_result"
    }
   ],
   "source": [
    "torch.manual_seed(42)\n",
    "model = Model()\n",
    "model"
   ]
  },
  {
   "cell_type": "code",
   "execution_count": 13,
   "metadata": {},
   "outputs": [],
   "source": [
    "criterion=nn.CrossEntropyLoss()\n",
    "optimizer=torch.optim.Adam(model.parameters(),lr=0.001)"
   ]
  },
  {
   "cell_type": "markdown",
   "metadata": {},
   "source": [
    "#### 3. Train the model and check while training"
   ]
  },
  {
   "cell_type": "code",
   "execution_count": 14,
   "metadata": {},
   "outputs": [],
   "source": [
    "epochs=10"
   ]
  },
  {
   "cell_type": "code",
   "execution_count": 15,
   "metadata": {},
   "outputs": [],
   "source": [
    "import time"
   ]
  },
  {
   "cell_type": "code",
   "execution_count": 16,
   "metadata": {
    "scrolled": true
   },
   "outputs": [
    {
     "name": "stdout",
     "output_type": "stream",
     "text": [
      "***ENTERING TRAIN***\n"
     ]
    },
    {
     "name": "stderr",
     "output_type": "stream",
     "text": [
      "E:\\Anaconda\\envs\\pytorchenv\\lib\\site-packages\\torch\\nn\\functional.py:718: UserWarning: Named tensors and all their associated APIs are an experimental feature and subject to change. Please do not use them for anything important until they are released as stable. (Triggered internally at  ..\\c10/core/TensorImpl.h:1156.)\n",
      "  return torch.max_pool2d(input, kernel_size, stride, padding, dilation, ceil_mode)\n"
     ]
    },
    {
     "name": "stdout",
     "output_type": "stream",
     "text": [
      " epoch 1 , batch200 ,loss=0.7212586998939514 , acc=90.0 %\n",
      " epoch 1 , batch400 ,loss=0.2837105989456177 , acc=90.0 %\n",
      " epoch 1 , batch600 ,loss=0.042550548911094666 , acc=100.0 %\n",
      " epoch 1 , batch800 ,loss=0.04917153716087341 , acc=100.0 %\n",
      " epoch 1 , batch1000 ,loss=0.887790322303772 , acc=90.0 %\n",
      " epoch 1 , batch1200 ,loss=0.07605952024459839 , acc=100.0 %\n",
      " epoch 1 , batch1400 ,loss=0.6689823865890503 , acc=80.0 %\n",
      " epoch 1 , batch1600 ,loss=0.5472081899642944 , acc=80.0 %\n",
      " epoch 1 , batch1800 ,loss=0.30995577573776245 , acc=80.0 %\n",
      " epoch 1 , batch2000 ,loss=0.29164567589759827 , acc=90.0 %\n",
      " epoch 1 , batch2200 ,loss=0.0553242452442646 , acc=100.0 %\n",
      " epoch 1 , batch2400 ,loss=0.02016785740852356 , acc=100.0 %\n",
      " epoch 1 , batch2600 ,loss=0.20258080959320068 , acc=90.0 %\n",
      " epoch 1 , batch2800 ,loss=0.011036296375095844 , acc=100.0 %\n",
      " epoch 1 , batch3000 ,loss=0.007437355816364288 , acc=100.0 %\n",
      " epoch 1 , batch3200 ,loss=0.006589758209884167 , acc=100.0 %\n",
      " epoch 1 , batch3400 ,loss=0.11002502590417862 , acc=100.0 %\n",
      " epoch 1 , batch3600 ,loss=0.0012245547259226441 , acc=100.0 %\n",
      " epoch 1 , batch3800 ,loss=0.03801023215055466 , acc=100.0 %\n",
      " epoch 1 , batch4000 ,loss=0.0019193787593394518 , acc=100.0 %\n",
      " epoch 1 , batch4200 ,loss=0.5557299852371216 , acc=90.0 %\n",
      " epoch 1 , batch4400 ,loss=0.19171449542045593 , acc=90.0 %\n",
      " epoch 1 , batch4600 ,loss=0.01082543469965458 , acc=100.0 %\n",
      " epoch 1 , batch4800 ,loss=0.0668177530169487 , acc=100.0 %\n",
      " epoch 1 , batch5000 ,loss=0.02490616962313652 , acc=100.0 %\n",
      " epoch 1 , batch5200 ,loss=0.002117611002177 , acc=100.0 %\n",
      " epoch 1 , batch5400 ,loss=0.007983753457665443 , acc=100.0 %\n",
      " epoch 1 , batch5600 ,loss=0.0038108988665044308 , acc=100.0 %\n",
      " epoch 1 , batch5800 ,loss=0.024354921653866768 , acc=100.0 %\n",
      " epoch 1 , batch6000 ,loss=0.0668204054236412 , acc=100.0 %\n",
      "***ENTERING TEST***\n",
      " epoch 1 , batch200 ,loss=0.0025416864082217216 , acc=100.0 %\n",
      " epoch 1 , batch400 ,loss=0.05551765486598015 , acc=100.0 %\n",
      " epoch 1 , batch600 ,loss=0.12155900150537491 , acc=90.0 %\n",
      " epoch 1 , batch800 ,loss=0.017436953261494637 , acc=100.0 %\n",
      " epoch 1 , batch1000 ,loss=0.0020466516725718975 , acc=100.0 %\n",
      "***ENTERING TRAIN***\n",
      " epoch 2 , batch200 ,loss=0.0003604093799367547 , acc=100.0 %\n",
      " epoch 2 , batch400 ,loss=0.0026957388035953045 , acc=100.0 %\n",
      " epoch 2 , batch600 ,loss=0.029031146317720413 , acc=100.0 %\n",
      " epoch 2 , batch800 ,loss=0.7416337728500366 , acc=80.0 %\n",
      " epoch 2 , batch1000 ,loss=0.0005110697820782661 , acc=100.0 %\n",
      " epoch 2 , batch1200 ,loss=0.05128370597958565 , acc=100.0 %\n",
      " epoch 2 , batch1400 ,loss=0.0004865586815867573 , acc=100.0 %\n",
      " epoch 2 , batch1600 ,loss=0.02489328756928444 , acc=100.0 %\n",
      " epoch 2 , batch1800 ,loss=0.0013509824639186263 , acc=100.0 %\n",
      " epoch 2 , batch2000 ,loss=0.0030027353204786777 , acc=100.0 %\n",
      " epoch 2 , batch2200 ,loss=0.020710734650492668 , acc=100.0 %\n",
      " epoch 2 , batch2400 ,loss=0.01731514371931553 , acc=100.0 %\n",
      " epoch 2 , batch2600 ,loss=0.005232572089880705 , acc=100.0 %\n",
      " epoch 2 , batch2800 ,loss=0.01485442090779543 , acc=100.0 %\n",
      " epoch 2 , batch3000 ,loss=0.2662854492664337 , acc=90.0 %\n",
      " epoch 2 , batch3200 ,loss=0.007346689701080322 , acc=100.0 %\n",
      " epoch 2 , batch3400 ,loss=0.025656213983893394 , acc=100.0 %\n",
      " epoch 2 , batch3600 ,loss=0.00023901737586129457 , acc=100.0 %\n",
      " epoch 2 , batch3800 ,loss=0.03653668612241745 , acc=100.0 %\n",
      " epoch 2 , batch4000 ,loss=0.01694217324256897 , acc=100.0 %\n",
      " epoch 2 , batch4200 ,loss=0.0006059271981939673 , acc=100.0 %\n",
      " epoch 2 , batch4400 ,loss=0.00686561968177557 , acc=100.0 %\n",
      " epoch 2 , batch4600 ,loss=0.004612897522747517 , acc=100.0 %\n",
      " epoch 2 , batch4800 ,loss=0.0006372936186380684 , acc=100.0 %\n",
      " epoch 2 , batch5000 ,loss=0.028427621349692345 , acc=100.0 %\n",
      " epoch 2 , batch5200 ,loss=8.195533882826567e-05 , acc=100.0 %\n",
      " epoch 2 , batch5400 ,loss=0.0007654715445823967 , acc=100.0 %\n",
      " epoch 2 , batch5600 ,loss=0.01559669803828001 , acc=100.0 %\n",
      " epoch 2 , batch5800 ,loss=0.0011560932034626603 , acc=100.0 %\n",
      " epoch 2 , batch6000 ,loss=0.06921999901533127 , acc=100.0 %\n",
      "***ENTERING TEST***\n",
      " epoch 2 , batch200 ,loss=0.001582929166033864 , acc=100.0 %\n",
      " epoch 2 , batch400 ,loss=0.02413332648575306 , acc=100.0 %\n",
      " epoch 2 , batch600 ,loss=0.11924710124731064 , acc=90.0 %\n",
      " epoch 2 , batch800 ,loss=0.0051966262981295586 , acc=100.0 %\n",
      " epoch 2 , batch1000 ,loss=0.0009039576980285347 , acc=100.0 %\n",
      "***ENTERING TRAIN***\n",
      " epoch 3 , batch200 ,loss=0.001114609302021563 , acc=100.0 %\n",
      " epoch 3 , batch400 ,loss=0.00328567111864686 , acc=100.0 %\n",
      " epoch 3 , batch600 ,loss=0.0007090660510584712 , acc=100.0 %\n",
      " epoch 3 , batch800 ,loss=0.0010627745650708675 , acc=100.0 %\n",
      " epoch 3 , batch1000 ,loss=0.07500095665454865 , acc=100.0 %\n",
      " epoch 3 , batch1200 ,loss=0.0014241785975173116 , acc=100.0 %\n",
      " epoch 3 , batch1400 ,loss=0.198593407869339 , acc=90.0 %\n",
      " epoch 3 , batch1600 ,loss=0.00011288128007436171 , acc=100.0 %\n",
      " epoch 3 , batch1800 ,loss=0.0016594270709902048 , acc=100.0 %\n",
      " epoch 3 , batch2000 ,loss=0.0020871134474873543 , acc=100.0 %\n",
      " epoch 3 , batch2200 ,loss=0.0018705781549215317 , acc=100.0 %\n",
      " epoch 3 , batch2400 ,loss=0.0019960994832217693 , acc=100.0 %\n",
      " epoch 3 , batch2600 ,loss=0.0001459538034396246 , acc=100.0 %\n",
      " epoch 3 , batch2800 ,loss=0.00034231305471621454 , acc=100.0 %\n",
      " epoch 3 , batch3000 ,loss=0.3902277946472168 , acc=80.0 %\n",
      " epoch 3 , batch3200 ,loss=0.026822850108146667 , acc=100.0 %\n",
      " epoch 3 , batch3400 ,loss=0.020232902839779854 , acc=100.0 %\n",
      " epoch 3 , batch3600 ,loss=0.10384920984506607 , acc=90.0 %\n",
      " epoch 3 , batch3800 ,loss=0.0008736487361602485 , acc=100.0 %\n",
      " epoch 3 , batch4000 ,loss=0.014134423807263374 , acc=100.0 %\n",
      " epoch 3 , batch4200 ,loss=0.019476449117064476 , acc=100.0 %\n",
      " epoch 3 , batch4400 ,loss=0.0009708552388474345 , acc=100.0 %\n",
      " epoch 3 , batch4600 ,loss=6.998097524046898e-05 , acc=100.0 %\n",
      " epoch 3 , batch4800 ,loss=0.0034180101938545704 , acc=100.0 %\n",
      " epoch 3 , batch5000 ,loss=0.062050871551036835 , acc=100.0 %\n",
      " epoch 3 , batch5200 ,loss=0.002609411021694541 , acc=100.0 %\n",
      " epoch 3 , batch5400 ,loss=0.00033976745908148587 , acc=100.0 %\n",
      " epoch 3 , batch5600 ,loss=0.0019216807559132576 , acc=100.0 %\n",
      " epoch 3 , batch5800 ,loss=0.008146645501255989 , acc=100.0 %\n",
      " epoch 3 , batch6000 ,loss=0.0001230183115694672 , acc=100.0 %\n",
      "***ENTERING TEST***\n",
      " epoch 3 , batch200 ,loss=0.0020818894263356924 , acc=100.0 %\n",
      " epoch 3 , batch400 ,loss=0.000690185057464987 , acc=100.0 %\n",
      " epoch 3 , batch600 ,loss=0.04399997740983963 , acc=100.0 %\n",
      " epoch 3 , batch800 ,loss=0.001046226010657847 , acc=100.0 %\n",
      " epoch 3 , batch1000 ,loss=0.00031607074197381735 , acc=100.0 %\n",
      "***ENTERING TRAIN***\n",
      " epoch 4 , batch200 ,loss=0.04499543085694313 , acc=100.0 %\n",
      " epoch 4 , batch400 ,loss=0.10162293910980225 , acc=90.0 %\n",
      " epoch 4 , batch600 ,loss=0.0013499873457476497 , acc=100.0 %\n",
      " epoch 4 , batch800 ,loss=0.0009571282425895333 , acc=100.0 %\n",
      " epoch 4 , batch1000 ,loss=0.00859281700104475 , acc=100.0 %\n",
      " epoch 4 , batch1200 ,loss=0.000404703663662076 , acc=100.0 %\n",
      " epoch 4 , batch1400 ,loss=0.0027153866831213236 , acc=100.0 %\n",
      " epoch 4 , batch1600 ,loss=0.002809778554365039 , acc=100.0 %\n",
      " epoch 4 , batch1800 ,loss=0.004249260760843754 , acc=100.0 %\n",
      " epoch 4 , batch2000 ,loss=0.04738098755478859 , acc=100.0 %\n",
      " epoch 4 , batch2200 ,loss=0.0014381492510437965 , acc=100.0 %\n",
      " epoch 4 , batch2400 ,loss=0.0001190453622257337 , acc=100.0 %\n",
      " epoch 4 , batch2600 ,loss=0.00023432991292793304 , acc=100.0 %\n",
      " epoch 4 , batch2800 ,loss=0.00953137781471014 , acc=100.0 %\n",
      " epoch 4 , batch3000 ,loss=0.07892654836177826 , acc=90.0 %\n",
      " epoch 4 , batch3200 ,loss=0.006192132364958525 , acc=100.0 %\n",
      " epoch 4 , batch3400 ,loss=0.037797026336193085 , acc=100.0 %\n",
      " epoch 4 , batch3600 ,loss=0.008006837218999863 , acc=100.0 %\n",
      " epoch 4 , batch3800 ,loss=0.052227746695280075 , acc=100.0 %\n",
      " epoch 4 , batch4000 ,loss=0.0022730424534529448 , acc=100.0 %\n",
      " epoch 4 , batch4200 ,loss=0.0014674176927655935 , acc=100.0 %\n",
      " epoch 4 , batch4400 ,loss=5.625058474834077e-05 , acc=100.0 %\n",
      " epoch 4 , batch4600 ,loss=0.007109315134584904 , acc=100.0 %\n",
      " epoch 4 , batch4800 ,loss=0.023946410045027733 , acc=100.0 %\n",
      " epoch 4 , batch5000 ,loss=0.0019071102142333984 , acc=100.0 %\n",
      " epoch 4 , batch5200 ,loss=0.0003333064669277519 , acc=100.0 %\n",
      " epoch 4 , batch5400 ,loss=0.006263013929128647 , acc=100.0 %\n",
      " epoch 4 , batch5600 ,loss=0.003975257743149996 , acc=100.0 %\n",
      " epoch 4 , batch5800 ,loss=8.868940494721755e-05 , acc=100.0 %\n",
      " epoch 4 , batch6000 ,loss=0.004347730427980423 , acc=100.0 %\n",
      "***ENTERING TEST***\n",
      " epoch 4 , batch200 ,loss=0.0006784526631236076 , acc=100.0 %\n",
      " epoch 4 , batch400 ,loss=0.017526086419820786 , acc=100.0 %\n",
      " epoch 4 , batch600 ,loss=0.027329852804541588 , acc=100.0 %\n",
      " epoch 4 , batch800 ,loss=0.011678440496325493 , acc=100.0 %\n",
      " epoch 4 , batch1000 ,loss=0.00019569523283280432 , acc=100.0 %\n",
      "***ENTERING TRAIN***\n",
      " epoch 5 , batch200 ,loss=9.206925460603088e-05 , acc=100.0 %\n",
      " epoch 5 , batch400 ,loss=0.8603881001472473 , acc=90.0 %\n",
      " epoch 5 , batch600 ,loss=0.0001491149014327675 , acc=100.0 %\n",
      " epoch 5 , batch800 ,loss=0.025813421234488487 , acc=100.0 %\n",
      " epoch 5 , batch1000 ,loss=0.0010743413586169481 , acc=100.0 %\n",
      " epoch 5 , batch1200 ,loss=0.16656789183616638 , acc=90.0 %\n",
      " epoch 5 , batch1400 ,loss=2.4651066269143485e-05 , acc=100.0 %\n",
      " epoch 5 , batch1600 ,loss=0.00028424852644093335 , acc=100.0 %\n",
      " epoch 5 , batch1800 ,loss=3.4424483601469547e-05 , acc=100.0 %\n",
      " epoch 5 , batch2000 ,loss=1.935869295266457e-05 , acc=100.0 %\n",
      " epoch 5 , batch2200 ,loss=0.0020874622277915478 , acc=100.0 %\n",
      " epoch 5 , batch2400 ,loss=9.579026664141566e-05 , acc=100.0 %\n",
      " epoch 5 , batch2600 ,loss=0.0006091740215197206 , acc=100.0 %\n",
      " epoch 5 , batch2800 ,loss=0.0001017913018586114 , acc=100.0 %\n",
      " epoch 5 , batch3000 ,loss=0.006298425607383251 , acc=100.0 %\n",
      " epoch 5 , batch3200 ,loss=0.0022860951721668243 , acc=100.0 %\n",
      " epoch 5 , batch3400 ,loss=0.00022244318097364157 , acc=100.0 %\n",
      " epoch 5 , batch3600 ,loss=5.372364103095606e-05 , acc=100.0 %\n",
      " epoch 5 , batch3800 ,loss=0.005308146122843027 , acc=100.0 %\n",
      " epoch 5 , batch4000 ,loss=1.9430459360592067e-05 , acc=100.0 %\n",
      " epoch 5 , batch4200 ,loss=0.0003394833765923977 , acc=100.0 %\n",
      " epoch 5 , batch4400 ,loss=0.0002221140020992607 , acc=100.0 %\n",
      " epoch 5 , batch4600 ,loss=1.3756468433712143e-05 , acc=100.0 %\n",
      " epoch 5 , batch4800 ,loss=0.0023635500110685825 , acc=100.0 %\n",
      " epoch 5 , batch5000 ,loss=0.0012960126623511314 , acc=100.0 %\n",
      " epoch 5 , batch5200 ,loss=0.005939699709415436 , acc=100.0 %\n",
      " epoch 5 , batch5400 ,loss=2.2648851881967857e-05 , acc=100.0 %\n",
      " epoch 5 , batch5600 ,loss=0.006108903791755438 , acc=100.0 %\n",
      " epoch 5 , batch5800 ,loss=0.002821491099894047 , acc=100.0 %\n",
      " epoch 5 , batch6000 ,loss=0.001969315577298403 , acc=100.0 %\n",
      "***ENTERING TEST***\n",
      " epoch 5 , batch200 ,loss=0.00021351361647248268 , acc=100.0 %\n",
      " epoch 5 , batch400 ,loss=0.0010584502015262842 , acc=100.0 %\n",
      " epoch 5 , batch600 ,loss=0.049512725323438644 , acc=100.0 %\n",
      " epoch 5 , batch800 ,loss=0.0012014819076284766 , acc=100.0 %\n",
      " epoch 5 , batch1000 ,loss=0.0005958709516562521 , acc=100.0 %\n",
      "***ENTERING TRAIN***\n",
      " epoch 6 , batch200 ,loss=0.00014734474825672805 , acc=100.0 %\n",
      " epoch 6 , batch400 ,loss=0.0004927610279992223 , acc=100.0 %\n",
      " epoch 6 , batch600 ,loss=0.0001794327690731734 , acc=100.0 %\n",
      " epoch 6 , batch800 ,loss=0.021682869642972946 , acc=100.0 %\n",
      " epoch 6 , batch1000 ,loss=6.313943595159799e-05 , acc=100.0 %\n",
      " epoch 6 , batch1200 ,loss=0.011562688276171684 , acc=100.0 %\n",
      " epoch 6 , batch1400 ,loss=6.276991189224645e-05 , acc=100.0 %\n",
      " epoch 6 , batch1600 ,loss=0.0003418238484300673 , acc=100.0 %\n",
      " epoch 6 , batch1800 ,loss=0.30236905813217163 , acc=90.0 %\n",
      " epoch 6 , batch2000 ,loss=0.001873277360573411 , acc=100.0 %\n",
      " epoch 6 , batch2200 ,loss=0.0022008586674928665 , acc=100.0 %\n",
      " epoch 6 , batch2400 ,loss=5.516510645975359e-05 , acc=100.0 %\n",
      " epoch 6 , batch2600 ,loss=0.0069065578281879425 , acc=100.0 %\n",
      " epoch 6 , batch2800 ,loss=0.04283158481121063 , acc=100.0 %\n",
      " epoch 6 , batch3000 ,loss=2.0217348719597794e-05 , acc=100.0 %\n",
      " epoch 6 , batch3200 ,loss=0.03598734736442566 , acc=100.0 %\n",
      " epoch 6 , batch3400 ,loss=0.0010896611493080854 , acc=100.0 %\n",
      " epoch 6 , batch3600 ,loss=6.517680594697595e-05 , acc=100.0 %\n",
      " epoch 6 , batch3800 ,loss=0.0001268027990590781 , acc=100.0 %\n",
      " epoch 6 , batch4000 ,loss=0.0005891203181818128 , acc=100.0 %\n",
      " epoch 6 , batch4200 ,loss=0.0001233989605680108 , acc=100.0 %\n",
      " epoch 6 , batch4400 ,loss=0.09709559381008148 , acc=90.0 %\n",
      " epoch 6 , batch4600 ,loss=1.6903315554372966e-05 , acc=100.0 %\n",
      " epoch 6 , batch4800 ,loss=7.486277809221065e-06 , acc=100.0 %\n",
      " epoch 6 , batch5000 ,loss=0.0001019964474835433 , acc=100.0 %\n",
      " epoch 6 , batch5200 ,loss=0.0005714817671105266 , acc=100.0 %\n",
      " epoch 6 , batch5400 ,loss=0.0001841554621933028 , acc=100.0 %\n",
      " epoch 6 , batch5600 ,loss=0.0021855970844626427 , acc=100.0 %\n",
      " epoch 6 , batch5800 ,loss=0.0003753734927158803 , acc=100.0 %\n",
      " epoch 6 , batch6000 ,loss=0.00040581030771136284 , acc=100.0 %\n",
      "***ENTERING TEST***\n",
      " epoch 6 , batch200 ,loss=0.012256395071744919 , acc=100.0 %\n",
      " epoch 6 , batch400 ,loss=0.0003407011681701988 , acc=100.0 %\n",
      " epoch 6 , batch600 ,loss=0.013265524990856647 , acc=100.0 %\n",
      " epoch 6 , batch800 ,loss=0.1357603222131729 , acc=90.0 %\n",
      " epoch 6 , batch1000 ,loss=0.005311896093189716 , acc=100.0 %\n",
      "***ENTERING TRAIN***\n",
      " epoch 7 , batch200 ,loss=0.001826070249080658 , acc=100.0 %\n",
      " epoch 7 , batch400 ,loss=0.10773154348134995 , acc=90.0 %\n",
      " epoch 7 , batch600 ,loss=0.0021644989028573036 , acc=100.0 %\n",
      " epoch 7 , batch800 ,loss=0.0001322625030297786 , acc=100.0 %\n",
      " epoch 7 , batch1000 ,loss=0.0004898580955341458 , acc=100.0 %\n",
      " epoch 7 , batch1200 ,loss=0.0004112986789550632 , acc=100.0 %\n",
      " epoch 7 , batch1400 ,loss=0.025213291868567467 , acc=100.0 %\n",
      " epoch 7 , batch1600 ,loss=6.078085789340548e-05 , acc=100.0 %\n",
      " epoch 7 , batch1800 ,loss=0.007980245165526867 , acc=100.0 %\n",
      " epoch 7 , batch2000 ,loss=0.027413632720708847 , acc=100.0 %\n",
      " epoch 7 , batch2200 ,loss=2.556720210122876e-05 , acc=100.0 %\n",
      " epoch 7 , batch2400 ,loss=0.0028622224926948547 , acc=100.0 %\n",
      " epoch 7 , batch2600 ,loss=0.0001611019397387281 , acc=100.0 %\n",
      " epoch 7 , batch2800 ,loss=0.14753636717796326 , acc=90.0 %\n",
      " epoch 7 , batch3000 ,loss=0.0004466281388886273 , acc=100.0 %\n",
      " epoch 7 , batch3200 ,loss=0.004656686447560787 , acc=100.0 %\n",
      " epoch 7 , batch3400 ,loss=3.687711068778299e-05 , acc=100.0 %\n",
      " epoch 7 , batch3600 ,loss=2.0861541543126805e-06 , acc=100.0 %\n",
      " epoch 7 , batch3800 ,loss=1.9311726191517664e-06 , acc=100.0 %\n",
      " epoch 7 , batch4000 ,loss=0.00020767716341651976 , acc=100.0 %\n",
      " epoch 7 , batch4200 ,loss=0.0012675296748057008 , acc=100.0 %\n",
      " epoch 7 , batch4400 ,loss=0.0016964509850367904 , acc=100.0 %\n",
      " epoch 7 , batch4600 ,loss=0.0001845923252403736 , acc=100.0 %\n",
      " epoch 7 , batch4800 ,loss=0.0012117885053157806 , acc=100.0 %\n",
      " epoch 7 , batch5000 ,loss=0.0003624524106271565 , acc=100.0 %\n",
      " epoch 7 , batch5200 ,loss=0.004472319036722183 , acc=100.0 %\n",
      " epoch 7 , batch5400 ,loss=0.0006917226710356772 , acc=100.0 %\n",
      " epoch 7 , batch5600 ,loss=0.001774668344296515 , acc=100.0 %\n",
      " epoch 7 , batch5800 ,loss=1.720103682600893e-05 , acc=100.0 %\n",
      " epoch 7 , batch6000 ,loss=0.0001355184067506343 , acc=100.0 %\n",
      "***ENTERING TEST***\n",
      " epoch 7 , batch200 ,loss=0.0005413701292127371 , acc=100.0 %\n",
      " epoch 7 , batch400 ,loss=0.0006866127951070666 , acc=100.0 %\n",
      " epoch 7 , batch600 ,loss=0.03852662071585655 , acc=100.0 %\n",
      " epoch 7 , batch800 ,loss=0.015538538806140423 , acc=100.0 %\n",
      " epoch 7 , batch1000 ,loss=2.6822031031770166e-06 , acc=100.0 %\n",
      "***ENTERING TRAIN***\n",
      " epoch 8 , batch200 ,loss=2.28033859457355e-05 , acc=100.0 %\n",
      " epoch 8 , batch400 ,loss=5.8292580433771946e-06 , acc=100.0 %\n",
      " epoch 8 , batch600 ,loss=0.000144200399518013 , acc=100.0 %\n",
      " epoch 8 , batch800 ,loss=5.125988309373497e-07 , acc=100.0 %\n",
      " epoch 8 , batch1000 ,loss=6.618764018639922e-05 , acc=100.0 %\n",
      " epoch 8 , batch1200 ,loss=2.3007260097074322e-06 , acc=100.0 %\n",
      " epoch 8 , batch1400 ,loss=2.0479636077652685e-05 , acc=100.0 %\n",
      " epoch 8 , batch1600 ,loss=0.000542561465408653 , acc=100.0 %\n",
      " epoch 8 , batch1800 ,loss=0.0013741845032200217 , acc=100.0 %\n",
      " epoch 8 , batch2000 ,loss=0.049259983003139496 , acc=100.0 %\n",
      " epoch 8 , batch2200 ,loss=3.906037818524055e-05 , acc=100.0 %\n",
      " epoch 8 , batch2400 ,loss=0.002334826858714223 , acc=100.0 %\n",
      " epoch 8 , batch2600 ,loss=0.00015727788559161127 , acc=100.0 %\n",
      " epoch 8 , batch2800 ,loss=0.003868698375299573 , acc=100.0 %\n",
      " epoch 8 , batch3000 ,loss=0.0051549626514315605 , acc=100.0 %\n",
      " epoch 8 , batch3200 ,loss=0.0033142261672765017 , acc=100.0 %\n",
      " epoch 8 , batch3400 ,loss=6.747168754372979e-06 , acc=100.0 %\n",
      " epoch 8 , batch3600 ,loss=0.00047344955964945257 , acc=100.0 %\n",
      " epoch 8 , batch3800 ,loss=6.099550591898151e-05 , acc=100.0 %\n",
      " epoch 8 , batch4000 ,loss=0.010790929198265076 , acc=100.0 %\n",
      " epoch 8 , batch4200 ,loss=2.7487831175676547e-05 , acc=100.0 %\n",
      " epoch 8 , batch4400 ,loss=6.129777466412634e-05 , acc=100.0 %\n",
      " epoch 8 , batch4600 ,loss=0.00029508169973269105 , acc=100.0 %\n",
      " epoch 8 , batch4800 ,loss=0.010218387469649315 , acc=100.0 %\n",
      " epoch 8 , batch5000 ,loss=3.3710621210047975e-05 , acc=100.0 %\n",
      " epoch 8 , batch5200 ,loss=0.007214740850031376 , acc=100.0 %\n",
      " epoch 8 , batch5400 ,loss=0.0007617931114509702 , acc=100.0 %\n",
      " epoch 8 , batch5600 ,loss=0.001917293295264244 , acc=100.0 %\n",
      " epoch 8 , batch5800 ,loss=0.03888214752078056 , acc=100.0 %\n",
      " epoch 8 , batch6000 ,loss=0.00275754788890481 , acc=100.0 %\n",
      "***ENTERING TEST***\n",
      " epoch 8 , batch200 ,loss=0.2535052001476288 , acc=90.0 %\n",
      " epoch 8 , batch400 ,loss=2.841757122951094e-05 , acc=100.0 %\n",
      " epoch 8 , batch600 ,loss=0.025170493870973587 , acc=100.0 %\n",
      " epoch 8 , batch800 ,loss=0.03442903608083725 , acc=100.0 %\n",
      " epoch 8 , batch1000 ,loss=2.2888011699251365e-06 , acc=100.0 %\n",
      "***ENTERING TRAIN***\n",
      " epoch 9 , batch200 ,loss=0.005544345360249281 , acc=100.0 %\n",
      " epoch 9 , batch400 ,loss=1.7857159036793746e-05 , acc=100.0 %\n",
      " epoch 9 , batch600 ,loss=0.0006652381853200495 , acc=100.0 %\n",
      " epoch 9 , batch800 ,loss=1.1682139302138239e-05 , acc=100.0 %\n",
      " epoch 9 , batch1000 ,loss=6.92608518875204e-05 , acc=100.0 %\n",
      " epoch 9 , batch1200 ,loss=0.0372113399207592 , acc=100.0 %\n",
      " epoch 9 , batch1400 ,loss=6.556500693477574e-07 , acc=100.0 %\n",
      " epoch 9 , batch1600 ,loss=0.0002069155016215518 , acc=100.0 %\n",
      " epoch 9 , batch1800 ,loss=0.002592236502096057 , acc=100.0 %\n",
      " epoch 9 , batch2000 ,loss=0.0013654890935868025 , acc=100.0 %\n",
      " epoch 9 , batch2200 ,loss=0.00011647832434391603 , acc=100.0 %\n",
      " epoch 9 , batch2400 ,loss=0.3052360415458679 , acc=90.0 %\n",
      " epoch 9 , batch2600 ,loss=0.0002188256912631914 , acc=100.0 %\n",
      " epoch 9 , batch2800 ,loss=0.0023084403946995735 , acc=100.0 %\n",
      " epoch 9 , batch3000 ,loss=0.004528744611889124 , acc=100.0 %\n",
      " epoch 9 , batch3200 ,loss=2.6021618396043777e-05 , acc=100.0 %\n",
      " epoch 9 , batch3400 ,loss=5.3744897741125897e-05 , acc=100.0 %\n",
      " epoch 9 , batch3600 ,loss=2.671295624168124e-05 , acc=100.0 %\n",
      " epoch 9 , batch3800 ,loss=2.9644759706570767e-05 , acc=100.0 %\n",
      " epoch 9 , batch4000 ,loss=2.857047729776241e-05 , acc=100.0 %\n",
      " epoch 9 , batch4200 ,loss=0.016186608001589775 , acc=100.0 %\n",
      " epoch 9 , batch4400 ,loss=1.2182534192106687e-05 , acc=100.0 %\n",
      " epoch 9 , batch4600 ,loss=0.0004250661877449602 , acc=100.0 %\n",
      " epoch 9 , batch4800 ,loss=0.00021103012841194868 , acc=100.0 %\n",
      " epoch 9 , batch5000 ,loss=1.0728555025707465e-05 , acc=100.0 %\n",
      " epoch 9 , batch5200 ,loss=1.2516932201833697e-06 , acc=100.0 %\n",
      " epoch 9 , batch5400 ,loss=7.987009666976519e-07 , acc=100.0 %\n",
      " epoch 9 , batch5600 ,loss=0.00451026763767004 , acc=100.0 %\n",
      " epoch 9 , batch5800 ,loss=3.806840686593205e-05 , acc=100.0 %\n",
      " epoch 9 , batch6000 ,loss=0.0006276260828599334 , acc=100.0 %\n",
      "***ENTERING TEST***\n",
      " epoch 9 , batch200 ,loss=6.866415787953883e-05 , acc=100.0 %\n",
      " epoch 9 , batch400 ,loss=1.0561748240434099e-05 , acc=100.0 %\n",
      " epoch 9 , batch600 ,loss=0.03252791613340378 , acc=100.0 %\n",
      " epoch 9 , batch800 ,loss=0.00025815004482865334 , acc=100.0 %\n",
      " epoch 9 , batch1000 ,loss=1.6450763951070257e-06 , acc=100.0 %\n",
      "***ENTERING TRAIN***\n",
      " epoch 10 , batch200 ,loss=0.048848170787096024 , acc=100.0 %\n",
      " epoch 10 , batch400 ,loss=2.5510510113235796e-06 , acc=100.0 %\n",
      " epoch 10 , batch600 ,loss=8.133546361932531e-05 , acc=100.0 %\n",
      " epoch 10 , batch800 ,loss=0.011776009574532509 , acc=100.0 %\n",
      " epoch 10 , batch1000 ,loss=8.344646573732462e-08 , acc=100.0 %\n",
      " epoch 10 , batch1200 ,loss=0.18524372577667236 , acc=90.0 %\n",
      " epoch 10 , batch1400 ,loss=2.1873394871363416e-05 , acc=100.0 %\n",
      " epoch 10 , batch1600 ,loss=0.000196951485122554 , acc=100.0 %\n",
      " epoch 10 , batch1800 ,loss=0.0015512814279645681 , acc=100.0 %\n",
      " epoch 10 , batch2000 ,loss=9.076463902601972e-05 , acc=100.0 %\n",
      " epoch 10 , batch2200 ,loss=0.00018142687622457743 , acc=100.0 %\n",
      " epoch 10 , batch2400 ,loss=0.030462751165032387 , acc=100.0 %\n",
      " epoch 10 , batch2600 ,loss=1.2993756399737322e-06 , acc=100.0 %\n",
      " epoch 10 , batch2800 ,loss=9.548482012178283e-06 , acc=100.0 %\n",
      " epoch 10 , batch3000 ,loss=0.003982740454375744 , acc=100.0 %\n",
      " epoch 10 , batch3200 ,loss=0.002442849799990654 , acc=100.0 %\n",
      " epoch 10 , batch3400 ,loss=4.7683653292551753e-07 , acc=100.0 %\n",
      " epoch 10 , batch3600 ,loss=0.0017042260151356459 , acc=100.0 %\n",
      " epoch 10 , batch3800 ,loss=1.2146823792136274e-05 , acc=100.0 %\n",
      " epoch 10 , batch4000 ,loss=0.001365726231597364 , acc=100.0 %\n",
      " epoch 10 , batch4200 ,loss=0.014035770669579506 , acc=100.0 %\n",
      " epoch 10 , batch4400 ,loss=2.1741736418334767e-05 , acc=100.0 %\n",
      " epoch 10 , batch4600 ,loss=8.953845099313185e-05 , acc=100.0 %\n",
      " epoch 10 , batch4800 ,loss=7.247702342283446e-06 , acc=100.0 %\n",
      " epoch 10 , batch5000 ,loss=0.3046751916408539 , acc=90.0 %\n",
      " epoch 10 , batch5200 ,loss=4.650775736081414e-05 , acc=100.0 %\n",
      " epoch 10 , batch5400 ,loss=0.00035877793561667204 , acc=100.0 %\n",
      " epoch 10 , batch5600 ,loss=0.0017652331152930856 , acc=100.0 %\n",
      " epoch 10 , batch5800 ,loss=1.939431604114361e-05 , acc=100.0 %\n",
      " epoch 10 , batch6000 ,loss=0.00013074695016257465 , acc=100.0 %\n",
      "***ENTERING TEST***\n",
      " epoch 10 , batch200 ,loss=2.4353674234589562e-05 , acc=100.0 %\n",
      " epoch 10 , batch400 ,loss=1.1288734640402254e-05 , acc=100.0 %\n",
      " epoch 10 , batch600 ,loss=0.007090817205607891 , acc=100.0 %\n",
      " epoch 10 , batch800 ,loss=0.0007096567424014211 , acc=100.0 %\n",
      " epoch 10 , batch1000 ,loss=1.5639348930562846e-05 , acc=100.0 %\n"
     ]
    }
   ],
   "source": [
    "train_epoch_acc=[]\n",
    "test_epoch_acc=[]\n",
    "train_losses=[]\n",
    "test_losses=[]\n",
    "time_start=time.time()\n",
    "for e in range(epochs):\n",
    "    e+=1\n",
    "    train_batch_acc=[]\n",
    "    test_batch_acc=[]\n",
    "    print('***ENTERING TRAIN***')\n",
    "    for i, (x_train,y_train) in enumerate(train_load):\n",
    "        i+=1\n",
    "        calc_acc=0\n",
    "        loss=0\n",
    "        y_train_pred=model(x_train)\n",
    "#         print('actual index',y_train_pred.argmax(dim=1))\n",
    "#         print('y_train',y_train)\n",
    "        calc_acc=(y_train_pred.argmax(dim=1)==y_train).sum()\n",
    "        #print('accuracy of batch:',calc_acc)\n",
    "#         print(f' sum for the batch:',calc_acc.item())\n",
    "        train_batch_acc.append(calc_acc)\n",
    "        loss=criterion(y_train_pred, y_train)\n",
    "        if i%200==0:\n",
    "#             print('sum of accuracies', calc_acc)\n",
    "#             print(i)\n",
    "            print(f' epoch {e} , batch{i} ,loss={loss} , acc={(calc_acc*100)/(10)} %')\n",
    "        optimizer.zero_grad()\n",
    "        loss.backward()\n",
    "        optimizer.step()\n",
    "        \n",
    "    train_losses.append(loss)        \n",
    "    train_epoch_acc.append(train_batch_acc)\n",
    "    with torch.no_grad():\n",
    "        print('***ENTERING TEST***')\n",
    "        for i,(x_test,y_test) in enumerate(test_load):\n",
    "            i+=1\n",
    "            calc_acc=0\n",
    "            y_test_pred=model(x_test)\n",
    "            calc_acc=(y_test_pred.argmax(dim=1)==y_test).sum()\n",
    "            #print(calc_acc)\n",
    "            test_batch_acc.append(calc_acc)\n",
    "            loss=criterion(y_test_pred,y_test)\n",
    "            if i%200==0:\n",
    "#             print('sum of accuracies', calc_acc)\n",
    "#             print(i)\n",
    "                print(f' epoch {e} , batch{i} ,loss={loss} , acc={(calc_acc*100)/(10)} %')\n",
    "        test_losses.append(loss) \n",
    "        test_epoch_acc.append(test_batch_acc)\n",
    "time_end=time.time()        \n",
    "        "
   ]
  },
  {
   "cell_type": "code",
   "execution_count": 17,
   "metadata": {},
   "outputs": [
    {
     "data": {
      "text/plain": [
       "10"
      ]
     },
     "execution_count": 17,
     "metadata": {},
     "output_type": "execute_result"
    }
   ],
   "source": [
    "len(test_losses)"
   ]
  },
  {
   "cell_type": "markdown",
   "metadata": {},
   "source": [
    "#### 4. Plot loss and accuracy model"
   ]
  },
  {
   "cell_type": "code",
   "execution_count": 34,
   "metadata": {},
   "outputs": [
    {
     "data": {
      "image/png": "[encoded data removed]",
      "text/plain": [
       "<Figure size 432x288 with 1 Axes>"
      ]
     },
     "metadata": {
      "needs_background": "light"
     },
     "output_type": "display_data"
    }
   ],
   "source": [
    "plt.plot(range(epochs),[i.detach().numpy() for i in train_losses],'r')\n",
    "plt.plot(range(epochs),[i.detach().numpy() for i in test_losses],'g')\n",
    "plt.show()\n"
   ]
  },
  {
   "cell_type": "code",
   "execution_count": 19,
   "metadata": {},
   "outputs": [],
   "source": [
    "train_eps=[]\n",
    "for eps in train_epoch_acc:\n",
    "    train_eps.append(np.sum(eps)*100/60000)"
   ]
  },
  {
   "cell_type": "code",
   "execution_count": 20,
   "metadata": {},
   "outputs": [
    {
     "data": {
      "image/png": "[encoded data removed]",
      "text/plain": [
       "<Figure size 432x288 with 1 Axes>"
      ]
     },
     "metadata": {
      "needs_background": "light"
     },
     "output_type": "display_data"
    }
   ],
   "source": [
    "plt.plot(range(epochs),[np.sum(eps)*100/60000 for eps in train_epoch_acc],'r')\n",
    "plt.plot(range(epochs),[np.sum(eps)*100/10000 for eps in test_epoch_acc],'g')\n",
    "plt.show()"
   ]
  },
  {
   "cell_type": "code",
   "execution_count": 21,
   "metadata": {},
   "outputs": [],
   "source": [
    "test_eps=[]\n",
    "for eps in test_epoch_acc:\n",
    "    test_eps.append(np.sum(eps)*100/10000)"
   ]
  },
  {
   "cell_type": "code",
   "execution_count": 22,
   "metadata": {},
   "outputs": [
    {
     "data": {
      "image/png": "[encoded data removed]",
      "text/plain": [
       "<Figure size 432x288 with 1 Axes>"
      ]
     },
     "metadata": {
      "needs_background": "light"
     },
     "output_type": "display_data"
    }
   ],
   "source": [
    "plt.plot(range(epochs),train_eps,'r')\n",
    "plt.plot(range(epochs),test_eps,'g')\n",
    "plt.show()\n"
   ]
  },
  {
   "cell_type": "markdown",
   "metadata": {},
   "source": [
    "#### 5. Check for full test data dump"
   ]
  },
  {
   "cell_type": "code",
   "execution_count": 23,
   "metadata": {},
   "outputs": [],
   "source": [
    "## Try full test data\n",
    "full_test=DataLoader(test_data_base,batch_size=10000)\n",
    "for x_test,y_test in full_test:\n",
    "    break"
   ]
  },
  {
   "cell_type": "code",
   "execution_count": 24,
   "metadata": {},
   "outputs": [
    {
     "data": {
      "text/plain": [
       "torch.Size([10000, 1, 28, 28])"
      ]
     },
     "execution_count": 24,
     "metadata": {},
     "output_type": "execute_result"
    }
   ],
   "source": [
    "x_test.shape"
   ]
  },
  {
   "cell_type": "code",
   "execution_count": 25,
   "metadata": {},
   "outputs": [
    {
     "name": "stdout",
     "output_type": "stream",
     "text": [
      "torch.Size([10000, 10]) torch.Size([10000])\n"
     ]
    }
   ],
   "source": [
    "with torch.no_grad():\n",
    "    y_test_final_preds=model(x_test)\n",
    "    acc_final=(y_test_final_preds.argmax(dim=1)==y_test).sum()\n",
    "    acc=acc_final/10000\n",
    "    print(y_test_final_preds.shape, y_test.shape)\n",
    "    loss=criterion(y_test_final_preds,y_test)"
   ]
  },
  {
   "cell_type": "code",
   "execution_count": 26,
   "metadata": {},
   "outputs": [
    {
     "name": "stdout",
     "output_type": "stream",
     "text": [
      "accuracy: 98.65999603271484 \t loss=0.05305424705147743\n"
     ]
    }
   ],
   "source": [
    "print(f'accuracy: {acc*100} \\t loss={loss}')"
   ]
  },
  {
   "cell_type": "markdown",
   "metadata": {},
   "source": [
    "#### 6. Confusion Matrix"
   ]
  },
  {
   "cell_type": "code",
   "execution_count": 27,
   "metadata": {},
   "outputs": [],
   "source": [
    "import sklearn\n",
    "from sklearn.metrics import confusion_matrix"
   ]
  },
  {
   "cell_type": "code",
   "execution_count": 33,
   "metadata": {},
   "outputs": [
    {
     "name": "stdout",
     "output_type": "stream",
     "text": [
      "[[ 969    0    0    0    0    2    3    1    1    4]\n",
      " [   0 1132    1    1    0    1    0    0    0    0]\n",
      " [   1    3 1015    3    2    0    0    4    4    0]\n",
      " [   0    1    0  994    0   11    0    1    3    0]\n",
      " [   0    1    2    0  972    0    2    0    1    4]\n",
      " [   0    0    0    5    0  884    1    0    1    1]\n",
      " [   3    2    2    0    6    3  940    0    2    0]\n",
      " [   0    6    6    0    0    0    0 1014    2    0]\n",
      " [   1    1    3    3    0    2    0    2  960    2]\n",
      " [   0    3    1    3    3    6    0    3    4  986]]\n"
     ]
    }
   ],
   "source": [
    "print(confusion_matrix(y_test,y_test_final_preds.argmax(dim=1)))"
   ]
  },
  {
   "cell_type": "code",
   "execution_count": null,
   "metadata": {},
   "outputs": [],
   "source": []
  }
 ],
 "metadata": {
  "kernelspec": {
   "display_name": "Python 3",
   "language": "python",
   "name": "python3"
  },
  "language_info": {
   "codemirror_mode": {
    "name": "ipython",
    "version": 3
   },
   "file_extension": ".py",
   "mimetype": "text/x-python",
   "name": "python",
   "nbconvert_exporter": "python",
   "pygments_lexer": "ipython3",
   "version": "3.8.5"
  }
 },
 "nbformat": 4,
 "nbformat_minor": 5
}
